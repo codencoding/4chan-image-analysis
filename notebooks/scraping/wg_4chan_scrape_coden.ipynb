{
 "cells": [
  {
   "cell_type": "markdown",
   "metadata": {},
   "source": [
    "Using API from https://github.com/4chan/4chan-API/blob/master/pages/User_images_and_static_content.md"
   ]
  },
  {
   "cell_type": "code",
   "execution_count": 1,
   "metadata": {},
   "outputs": [],
   "source": [
    "import pandas as pd\n",
    "import numpy as np\n",
    "import urllib, json, os, datetime, time, requests\n",
    "from unidecode import unidecode\n",
    "import unicodecsv as csv"
   ]
  },
  {
   "cell_type": "code",
   "execution_count": 2,
   "metadata": {},
   "outputs": [],
   "source": [
    "ROOT_DIR = \"../../\"\n",
    "with open(ROOT_DIR + \"config/config-scraping.json\") as f:\n",
    "    cfg = json.load(f)"
   ]
  },
  {
   "cell_type": "code",
   "execution_count": 12,
   "metadata": {
    "scrolled": true
   },
   "outputs": [],
   "source": [
    "save_dir = ROOT_DIR + cfg[\"tmp_dir\"]\n",
    "board = \"wg\""
   ]
  },
  {
   "cell_type": "code",
   "execution_count": 4,
   "metadata": {},
   "outputs": [],
   "source": [
    "def get_threads(data):\n",
    "    threads = []\n",
    "    for page in data:\n",
    "        for thread in page[\"threads\"]:\n",
    "            threads.append(thread)\n",
    "            \n",
    "    return threads"
   ]
  },
  {
   "cell_type": "code",
   "execution_count": 6,
   "metadata": {},
   "outputs": [],
   "source": [
    "def get_thread_posts(thread_no, board):\n",
    "    time.sleep(1)\n",
    "    response = requests.get(\"https://a.4cdn.org/\" + board + \"/thread/\" + str(thread_no) + \".json\")\n",
    "    if response.ok:\n",
    "        return eval(response.content)[\"posts\"]\n",
    "    else:\n",
    "        return None"
   ]
  },
  {
   "cell_type": "code",
   "execution_count": 19,
   "metadata": {},
   "outputs": [],
   "source": [
    "def get_complete_df(threads):\n",
    "    posts = []\n",
    "    thread_num = 0\n",
    "    for thread in threads:\n",
    "        for post in thread:\n",
    "            post[\"thread_id\"] = thread_num\n",
    "        posts += thread\n",
    "        thread_num += 1\n",
    "        \n",
    "    return pd.DataFrame(posts)"
   ]
  },
  {
   "cell_type": "code",
   "execution_count": null,
   "metadata": {},
   "outputs": [],
   "source": [
    "def download_images(df, board, save_dir):\n",
    "    img_types = [\".jpg\", \".png\"]\n",
    "    image_df = df[df.ext.apply(lambda row:row in img_types)][[\"tim\", \"ext\"]].dropna()\n",
    "    images = image_df[\"tim\"].apply(int).apply(str) + image_df[\"ext\"]\n",
    "    \n",
    "    # Filter out already downloaded images\n",
    "    downloaded_imgs = os.listdir(save_dir + board + '/')\n",
    "    images = images[~images.apply(lambda img:img in downloaded_imgs)]\n",
    "    \n",
    "    if len(images) == 0:\n",
    "        print(\"All images already downloaded\")\n",
    "        return\n",
    "    elif len(images) > 3600:\n",
    "        completion_time = round(len(images) / 3600, 3)\n",
    "        print(\"Minimum time to completion: {} hours\".format(completion_time))\n",
    "    elif len(images) > 60:\n",
    "        completion_time = round(len(images) / 60, 3)\n",
    "        print(\"Minimum time to completion: {} minutes\".format(completion_time))\n",
    "    else:\n",
    "        completion_time = round(len(images), 3)\n",
    "        print(\"Minimum time to completion: {} seconds\".format(completion_time))\n",
    "    \n",
    "    im_count = 0\n",
    "    for image in images:\n",
    "        # API rules ask for a 1 second delay between requests\n",
    "        time.sleep(1)\n",
    "        try:\n",
    "            img = requests.get(\"https://i.4cdn.org/{}/{}\".format(board, image)).content\n",
    "            with open(save_dir + board + '/' + image, \"wb\") as f:\n",
    "                f.write(img)\n",
    "        except:\n",
    "            print(\"Error with image: {}\".format(image))\n",
    "            continue\n",
    "            \n",
    "        im_count += 1\n",
    "        print(\"Saved {} image{}\".format(im_count, \"\" if im_count == 1 else \"s\"), end='\\r')"
   ]
  },
  {
   "cell_type": "code",
   "execution_count": 14,
   "metadata": {},
   "outputs": [],
   "source": [
    "def scrape_new_data(board, save_dir):\n",
    "    # Create a folder for the board\n",
    "    path = save_dir + board\n",
    "    if not os.path.exists(path):\n",
    "        os.mkdir(path)\n",
    "\n",
    "    # Get the 4chan board catalog JSON file and open it\n",
    "    url = \"https://a.4cdn.org/\" + board + \"/catalog.json\"\n",
    "    response = requests.get(url)\n",
    "    data = eval(response.content)\n",
    "    return data"
   ]
  },
  {
   "cell_type": "code",
   "execution_count": 17,
   "metadata": {},
   "outputs": [],
   "source": [
    "def extract_board_posts(data):\n",
    "    # Create a folder for the board\n",
    "    path = save_dir + board\n",
    "    if not os.path.exists(path):\n",
    "        os.mkdir(path)\n",
    "\n",
    "    # Get the 4chan board catalog JSON file and open it\n",
    "    url = \"https://a.4cdn.org/\" + board + \"/catalog.json\"\n",
    "    response = requests.get(url)\n",
    "    data = eval(response.content)\n",
    "    \n",
    "    threads_df = pd.DataFrame(get_threads(data))\n",
    "    threads = []\n",
    "    for thread_no in threads_df[\"no\"]:\n",
    "        threads.append(get_thread_posts(thread_no, board))\n",
    "    df = get_complete_df(threads)\n",
    "    return df"
   ]
  },
  {
   "cell_type": "code",
   "execution_count": 15,
   "metadata": {},
   "outputs": [],
   "source": [
    "data = scrape_new_data(board, save_dir)"
   ]
  },
  {
   "cell_type": "code",
   "execution_count": 20,
   "metadata": {},
   "outputs": [],
   "source": [
    "df = extract_board_posts(data)"
   ]
  },
  {
   "cell_type": "code",
   "execution_count": null,
   "metadata": {},
   "outputs": [],
   "source": [
    "download_images(df, board, save_dir)"
   ]
  },
  {
   "cell_type": "markdown",
   "metadata": {},
   "source": [
    "- Download thumbnails for image analysis\n",
    "- Maintain original image resolution for resolution visualization\n",
    "- Should probably hold off on downloading any images until after metadata filtering is done\n",
    "- Add nsfw tag\n",
    "- Tags for image recognition?\n",
    "\n",
    "- ## Need to create and maintain a csv for every scrape so we don't have images downloaded with no corresponding csv data."
   ]
  },
  {
   "cell_type": "code",
   "execution_count": null,
   "metadata": {
    "scrolled": true
   },
   "outputs": [],
   "source": [
    "if not os.path.exists(save_dir + \"csvs\"):\n",
    "    os.mkdir(save_dir + \"csvs\")\n",
    "df.to_csv(save_dir + \"csvs/\" + board + \"_metadata.csv\")"
   ]
  },
  {
   "cell_type": "code",
   "execution_count": null,
   "metadata": {},
   "outputs": [],
   "source": []
  }
 ],
 "metadata": {
  "kernelspec": {
   "display_name": "Python 3",
   "language": "python",
   "name": "python3"
  },
  "language_info": {
   "codemirror_mode": {
    "name": "ipython",
    "version": 3
   },
   "file_extension": ".py",
   "mimetype": "text/x-python",
   "name": "python",
   "nbconvert_exporter": "python",
   "pygments_lexer": "ipython3",
   "version": "3.6.2"
  }
 },
 "nbformat": 4,
 "nbformat_minor": 2
}
