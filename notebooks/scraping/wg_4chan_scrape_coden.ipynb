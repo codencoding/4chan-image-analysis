{
 "cells": [
  {
   "cell_type": "markdown",
   "metadata": {},
   "source": [
    "Using API from https://github.com/4chan/4chan-API/blob/master/pages/User_images_and_static_content.md"
   ]
  },
  {
   "cell_type": "code",
   "execution_count": 1,
   "metadata": {},
   "outputs": [],
   "source": [
    "import os\n",
    "import sys\n",
    "import pandas as pd\n",
    "import numpy as np\n",
    "import urllib, json, os, datetime, time, requests\n",
    "from unidecode import unidecode\n",
    "import unicodecsv as csv"
   ]
  },
  {
   "cell_type": "code",
   "execution_count": 2,
   "metadata": {},
   "outputs": [],
   "source": [
    "ROOT_DIR = \"../../\"\n",
    "with open(ROOT_DIR + \"config/config-scraping.json\") as f:\n",
    "    cfg = json.load(f)\n",
    "sys.path.insert(0, os.path.abspath(ROOT_DIR + 'src/scraping'))\n",
    "import scraping as scrape"
   ]
  },
  {
   "cell_type": "code",
   "execution_count": 3,
   "metadata": {
    "scrolled": true
   },
   "outputs": [],
   "source": [
    "save_dir = ROOT_DIR + cfg[\"tmp_dir\"]\n",
    "board = \"wg\""
   ]
  },
  {
   "cell_type": "code",
   "execution_count": 4,
   "metadata": {},
   "outputs": [],
   "source": [
    "data = scrape.scrape_new_data(board, save_dir)"
   ]
  },
  {
   "cell_type": "code",
   "execution_count": 5,
   "metadata": {},
   "outputs": [],
   "source": [
    "df = scrape.extract_board_posts(board, save_dir, data)"
   ]
  },
  {
   "cell_type": "code",
   "execution_count": null,
   "metadata": {},
   "outputs": [],
   "source": [
    "scrape.download_images(df, board, save_dir)"
   ]
  },
  {
   "cell_type": "markdown",
   "metadata": {},
   "source": [
    "- Download thumbnails for image analysis\n",
    "- Maintain original image resolution for resolution visualization\n",
    "- Should probably hold off on downloading any images until after metadata filtering is done\n",
    "- Add nsfw tag\n",
    "- Tags for image recognition?\n",
    "\n",
    "- ## Need to create and maintain a csv for every scrape so we don't have images downloaded with no corresponding csv data.\n",
    "\n",
    "- Add a datetime object column for when the image was originally scraped"
   ]
  },
  {
   "cell_type": "code",
   "execution_count": 6,
   "metadata": {},
   "outputs": [],
   "source": [
    "def remove_encoding(string):\n",
    "    if pd.isnull(string):\n",
    "        return None\n",
    "    try:\n",
    "        return string.encode('utf-8').decode(\"ascii\", \"ignore\")\n",
    "    except UnicodeEncodeError:\n",
    "        return None"
   ]
  },
  {
   "cell_type": "code",
   "execution_count": null,
   "metadata": {},
   "outputs": [],
   "source": [
    "# str_cols = [\"now\", \"name\", \"sub\", \"com\"]\n",
    "# for col in str_cols:\n",
    "#     df[col] = df[col].str.replace('\\\\', '')"
   ]
  },
  {
   "cell_type": "code",
   "execution_count": 8,
   "metadata": {
    "scrolled": true
   },
   "outputs": [],
   "source": [
    "df[\"name\"] = df[\"name\"].apply(remove_encoding)"
   ]
  },
  {
   "cell_type": "code",
   "execution_count": 10,
   "metadata": {
    "scrolled": true
   },
   "outputs": [],
   "source": [
    "if not os.path.exists(save_dir + \"csvs\"):\n",
    "    os.mkdir(save_dir + \"csvs\")\n",
    "df.to_csv(save_dir + \"csvs/\" + board + \"_metadata.csv\", index=False)"
   ]
  },
  {
   "cell_type": "code",
   "execution_count": null,
   "metadata": {},
   "outputs": [],
   "source": []
  }
 ],
 "metadata": {
  "kernelspec": {
   "display_name": "Python 3",
   "language": "python",
   "name": "python3"
  },
  "language_info": {
   "codemirror_mode": {
    "name": "ipython",
    "version": 3
   },
   "file_extension": ".py",
   "mimetype": "text/x-python",
   "name": "python",
   "nbconvert_exporter": "python",
   "pygments_lexer": "ipython3",
   "version": "3.6.2"
  }
 },
 "nbformat": 4,
 "nbformat_minor": 2
}
